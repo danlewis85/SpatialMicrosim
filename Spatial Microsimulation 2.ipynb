{
 "cells": [
  {
   "cell_type": "code",
   "execution_count": 233,
   "metadata": {},
   "outputs": [],
   "source": [
    "import pandas as pd\n",
    "import numpy as np\n",
    "from scipy.optimize import minimize, basinhopping, differential_evolution"
   ]
  },
  {
   "cell_type": "markdown",
   "metadata": {},
   "source": [
    "# SimpleWorld Data"
   ]
  },
  {
   "cell_type": "code",
   "execution_count": 5,
   "metadata": {},
   "outputs": [
    {
     "data": {
      "text/html": [
       "<div>\n",
       "<style>\n",
       "    .dataframe thead tr:only-child th {\n",
       "        text-align: right;\n",
       "    }\n",
       "\n",
       "    .dataframe thead th {\n",
       "        text-align: left;\n",
       "    }\n",
       "\n",
       "    .dataframe tbody tr th {\n",
       "        vertical-align: top;\n",
       "    }\n",
       "</style>\n",
       "<table border=\"1\" class=\"dataframe\">\n",
       "  <thead>\n",
       "    <tr style=\"text-align: right;\">\n",
       "      <th></th>\n",
       "      <th>a0_49</th>\n",
       "      <th>a50+</th>\n",
       "      <th>m</th>\n",
       "      <th>f</th>\n",
       "    </tr>\n",
       "  </thead>\n",
       "  <tbody>\n",
       "    <tr>\n",
       "      <th>0</th>\n",
       "      <td>0</td>\n",
       "      <td>1</td>\n",
       "      <td>1</td>\n",
       "      <td>0</td>\n",
       "    </tr>\n",
       "    <tr>\n",
       "      <th>1</th>\n",
       "      <td>0</td>\n",
       "      <td>1</td>\n",
       "      <td>1</td>\n",
       "      <td>0</td>\n",
       "    </tr>\n",
       "    <tr>\n",
       "      <th>2</th>\n",
       "      <td>1</td>\n",
       "      <td>0</td>\n",
       "      <td>1</td>\n",
       "      <td>0</td>\n",
       "    </tr>\n",
       "    <tr>\n",
       "      <th>3</th>\n",
       "      <td>0</td>\n",
       "      <td>1</td>\n",
       "      <td>0</td>\n",
       "      <td>1</td>\n",
       "    </tr>\n",
       "    <tr>\n",
       "      <th>4</th>\n",
       "      <td>1</td>\n",
       "      <td>0</td>\n",
       "      <td>0</td>\n",
       "      <td>1</td>\n",
       "    </tr>\n",
       "  </tbody>\n",
       "</table>\n",
       "</div>"
      ],
      "text/plain": [
       "   a0_49  a50+  m  f\n",
       "0      0     1  1  0\n",
       "1      0     1  1  0\n",
       "2      1     0  1  0\n",
       "3      0     1  0  1\n",
       "4      1     0  0  1"
      ]
     },
     "execution_count": 5,
     "metadata": {},
     "output_type": "execute_result"
    }
   ],
   "source": [
    "# Create the SimpleWorld individual data\n",
    "\n",
    "ids = range(1,6)\n",
    "ages = [59,54,35,73,49]\n",
    "sex = [\"m\",\"m\",\"m\",\"f\",\"f\"]\n",
    "income = [2868, 2474, 2231, 3152, 2473]\n",
    "\n",
    "ind = pd.DataFrame(np.transpose([ids,ages,sex,income]), columns=[\"id\",\"age\",\"sex\",\"income\"])\n",
    "\n",
    "# Drop the income field\n",
    "ind = ind.drop(['income'],axis=1)\n",
    "\n",
    "# Now recategorise the age variable\n",
    "ind['age'] = pd.to_numeric(ind['age'])\n",
    "\n",
    "# overwrite the age variable with categorical age\n",
    "ind['age'] = pd.cut(ind['age'], [0,49,120], labels = ['a0_49','a50+'])\n",
    "\n",
    "# As the dimensions are different, we need to 'flatten' the individual dataset.\n",
    "# This means that responses become fields, and values become booleans, with rows reflecting individuals\n",
    "age_pivot = pd.pivot_table(ind,columns=['age'],values='id', index=ind.index, aggfunc=len, fill_value=0)\n",
    "# The last square bracket bit ensures that the column order is male then female.\n",
    "sex_pivot = pd.pivot_table(ind,columns=['sex'],values='id', index=ind.index, aggfunc=len, fill_value=0)[['m','f']]\n",
    "\n",
    "# merge pivoted data to make flat dataframe\n",
    "ind_cat = pd.DataFrame(age_pivot.to_records()).merge(pd.DataFrame(sex_pivot.to_records()),left_index=True,right_index=True)\n",
    "# drop nuisance columns\n",
    "ind_cat = ind_cat.drop(['index_x','index_y'],axis=1)\n",
    "ind_cat"
   ]
  },
  {
   "cell_type": "code",
   "execution_count": 6,
   "metadata": {},
   "outputs": [
    {
     "data": {
      "text/html": [
       "<div>\n",
       "<style>\n",
       "    .dataframe thead tr:only-child th {\n",
       "        text-align: right;\n",
       "    }\n",
       "\n",
       "    .dataframe thead th {\n",
       "        text-align: left;\n",
       "    }\n",
       "\n",
       "    .dataframe tbody tr th {\n",
       "        vertical-align: top;\n",
       "    }\n",
       "</style>\n",
       "<table border=\"1\" class=\"dataframe\">\n",
       "  <thead>\n",
       "    <tr style=\"text-align: right;\">\n",
       "      <th></th>\n",
       "      <th>a0_49</th>\n",
       "      <th>a50+</th>\n",
       "      <th>m</th>\n",
       "      <th>f</th>\n",
       "    </tr>\n",
       "  </thead>\n",
       "  <tbody>\n",
       "    <tr>\n",
       "      <th>0</th>\n",
       "      <td>8</td>\n",
       "      <td>4</td>\n",
       "      <td>6</td>\n",
       "      <td>6</td>\n",
       "    </tr>\n",
       "    <tr>\n",
       "      <th>1</th>\n",
       "      <td>2</td>\n",
       "      <td>8</td>\n",
       "      <td>4</td>\n",
       "      <td>6</td>\n",
       "    </tr>\n",
       "    <tr>\n",
       "      <th>2</th>\n",
       "      <td>7</td>\n",
       "      <td>4</td>\n",
       "      <td>3</td>\n",
       "      <td>8</td>\n",
       "    </tr>\n",
       "  </tbody>\n",
       "</table>\n",
       "</div>"
      ],
      "text/plain": [
       "   a0_49  a50+  m  f\n",
       "0      8     4  6  6\n",
       "1      2     8  4  6\n",
       "2      7     4  3  8"
      ]
     },
     "execution_count": 6,
     "metadata": {},
     "output_type": "execute_result"
    }
   ],
   "source": [
    "# Create the SimpleWorld constraints data\n",
    "\n",
    "# SimpleWorld age constraint data\n",
    "con_age = pd.DataFrame([[8,4],[2,8],[7,4]],columns=[\"0-49\",\"50+\"])\n",
    "# SimpleWorld sex constraint data\n",
    "con_sex = pd.DataFrame([[6,6],[4,6],[3,8]],columns=[\"m\",\"f\"])\n",
    "# Rename the con_age fields to match the categories in the ind table\n",
    "con_age = con_age.rename(columns={'0-49':'a0_49','50+':'a50+'})\n",
    "# Finally create a single contraint object by merging the constraints tables.\n",
    "cons = con_age.merge(con_sex,left_index=True,right_index=True)\n",
    "cons"
   ]
  },
  {
   "cell_type": "markdown",
   "metadata": {},
   "source": [
    "# Optimisation Specific Data Setup"
   ]
  },
  {
   "cell_type": "code",
   "execution_count": 96,
   "metadata": {},
   "outputs": [
    {
     "data": {
      "text/html": [
       "<div>\n",
       "<style>\n",
       "    .dataframe thead tr:only-child th {\n",
       "        text-align: right;\n",
       "    }\n",
       "\n",
       "    .dataframe thead th {\n",
       "        text-align: left;\n",
       "    }\n",
       "\n",
       "    .dataframe tbody tr th {\n",
       "        vertical-align: top;\n",
       "    }\n",
       "</style>\n",
       "<table border=\"1\" class=\"dataframe\">\n",
       "  <thead>\n",
       "    <tr style=\"text-align: right;\">\n",
       "      <th></th>\n",
       "      <th>a0_49</th>\n",
       "      <th>a50+</th>\n",
       "      <th>m</th>\n",
       "      <th>f</th>\n",
       "    </tr>\n",
       "  </thead>\n",
       "  <tbody>\n",
       "    <tr>\n",
       "      <th>0</th>\n",
       "      <td>0</td>\n",
       "      <td>2</td>\n",
       "      <td>2</td>\n",
       "      <td>0</td>\n",
       "    </tr>\n",
       "    <tr>\n",
       "      <th>1</th>\n",
       "      <td>1</td>\n",
       "      <td>0</td>\n",
       "      <td>1</td>\n",
       "      <td>0</td>\n",
       "    </tr>\n",
       "    <tr>\n",
       "      <th>2</th>\n",
       "      <td>0</td>\n",
       "      <td>1</td>\n",
       "      <td>0</td>\n",
       "      <td>1</td>\n",
       "    </tr>\n",
       "    <tr>\n",
       "      <th>3</th>\n",
       "      <td>1</td>\n",
       "      <td>0</td>\n",
       "      <td>0</td>\n",
       "      <td>1</td>\n",
       "    </tr>\n",
       "  </tbody>\n",
       "</table>\n",
       "</div>"
      ],
      "text/plain": [
       "   a0_49  a50+  m  f\n",
       "0      0     2  2  0\n",
       "1      1     0  1  0\n",
       "2      0     1  0  1\n",
       "3      1     0  0  1"
      ]
     },
     "execution_count": 96,
     "metadata": {},
     "output_type": "execute_result"
    }
   ],
   "source": [
    "# Records in the individual table need to be unique.\n",
    "# Individuals who are duplicates on the dimensions used in the spatial microsimulation must be removed.\n",
    "# Then a frequency column should be added to preserve duplicated rows.\n",
    "\n",
    "def unique_mat_freqs(ind):\n",
    "    patterns = ind.copy()\n",
    "    # Get the constraint 'pattern'\n",
    "    cols = patterns.columns\n",
    "    patterns['pattern'] = patterns.apply(lambda x: ''.join(str(e) for e in[x[c] for c in cols]),axis=1)\n",
    "    # Get the frequencies of each pattern\n",
    "    freq = patterns.groupby('pattern').size()\n",
    "    # Get indices of unique rows\n",
    "    ind_unique_index = patterns.drop_duplicates().index\n",
    "    # Select unique patterns\n",
    "    patterns = patterns.iloc[ind_unique_index]\n",
    "    # merge back freq\n",
    "    patterns = patterns.merge(freq.to_frame(name='freq'),left_on='pattern',right_index=True)\n",
    "    # Finally store original row indices and reindex\n",
    "    patterns['rns'] = patterns.index\n",
    "    patterns = patterns.reset_index(drop=True)\n",
    "    return patterns\n",
    "\n",
    "# Call this function to return an individuals table with no duplicates\n",
    "umat = unique_mat_freqs(ind_cat)\n",
    "\n",
    "# Now remake the binary individuals matrix to reflect counts\n",
    "indu = umat.iloc[:,range(0,len(ind_cat)-1)] * np.repeat(umat['freq'].values,len(umat)).reshape((len(umat),-1))\n",
    "\n",
    "# We can now see that there are 2 50+ males in our dataset\n",
    "indu"
   ]
  },
  {
   "cell_type": "markdown",
   "metadata": {},
   "source": [
    "# Optimisation Methods for Reweighting"
   ]
  },
  {
   "cell_type": "code",
   "execution_count": 147,
   "metadata": {
    "collapsed": true
   },
   "outputs": [],
   "source": [
    "# Using the minimize function we need to set up a few things\n",
    "# fun = objective function; here we'll use the total absolute error (TAE) per category\n",
    "# x0 = initial guess at parameters, we'll use a vector of 1s.\n",
    "# args = extra arguements to pass to the objective function. We need to pass the constraints, and frequency of individuals.\n",
    "# method = type of solver, initially we'll use the conjugate gradient 'CG' solver.\n",
    "\n",
    "def tae(x0, ind_freq, cons):\n",
    "    # total absolute error compares the simulation to the real constraints\n",
    "    ae = abs((ind_freq.apply(lambda x: x * x0[x.index], axis=0).sum(axis=0)) - cons)\n",
    "    return ae.sum()"
   ]
  },
  {
   "cell_type": "code",
   "execution_count": 150,
   "metadata": {},
   "outputs": [
    {
     "data": {
      "text/plain": [
       "0.19999999999999973"
      ]
     },
     "execution_count": 150,
     "metadata": {},
     "output_type": "execute_result"
    }
   ],
   "source": [
    "# Check that the objective function works with some suggested x0s for area 1\n",
    "tae(np.array([1.2,3.5,1.5,4.5]),indu,cons.iloc[0])"
   ]
  },
  {
   "cell_type": "markdown",
   "metadata": {},
   "source": [
    "## Nelder-Mead"
   ]
  },
  {
   "cell_type": "code",
   "execution_count": 182,
   "metadata": {},
   "outputs": [
    {
     "data": {
      "text/plain": [
       " final_simplex: (array([[ 1.26561641,  3.46876723,  1.46876712,  4.53123261],\n",
       "       [ 1.26561614,  3.46876776,  1.46876763,  4.53123206],\n",
       "       [ 1.26561624,  3.46876765,  1.46876734,  4.5312326 ],\n",
       "       [ 1.26561616,  3.46876778,  1.46876777,  4.53123251],\n",
       "       [ 1.26561633,  3.46876678,  1.46876714,  4.53123307]]), array([  5.38388953e-07,   6.24531496e-07,   6.31697931e-07,\n",
       "         7.56104382e-07,   1.11254030e-06]))\n",
       "           fun: 5.3838895253122132e-07\n",
       "       message: 'Optimization terminated successfully.'\n",
       "          nfev: 273\n",
       "           nit: 152\n",
       "        status: 0\n",
       "       success: True\n",
       "             x: array([ 1.26561641,  3.46876723,  1.46876712,  4.53123261])"
      ]
     },
     "execution_count": 182,
     "metadata": {},
     "output_type": "execute_result"
    }
   ],
   "source": [
    "nm = minimize(fun=tae, x0 = np.ones(len(indu)), args = (indu,cons.iloc[0]), method = 'Nelder-Mead', tol=1e-6)\n",
    "nm"
   ]
  },
  {
   "cell_type": "code",
   "execution_count": 179,
   "metadata": {},
   "outputs": [
    {
     "data": {
      "text/plain": [
       "array([ 1.26561641,  1.26561641,  3.46876723,  1.46876712,  4.53123261])"
      ]
     },
     "execution_count": 179,
     "metadata": {},
     "output_type": "execute_result"
    }
   ],
   "source": [
    "# Get weights for original ind table by duplicating weights where required\n",
    "weights = np.repeat(nm.x,umat['freq'])\n",
    "weights"
   ]
  },
  {
   "cell_type": "code",
   "execution_count": 180,
   "metadata": {},
   "outputs": [
    {
     "name": "stdout",
     "output_type": "stream",
     "text": [
      "Optimisation Weights\n",
      "a0_49    8.0\n",
      "a50+     4.0\n",
      "m        6.0\n",
      "f        6.0\n",
      "dtype: float64\n",
      "\n",
      "Original Constraints\n",
      "a0_49    8\n",
      "a50+     4\n",
      "m        6\n",
      "f        6\n",
      "Name: 0, dtype: int64\n"
     ]
    }
   ],
   "source": [
    "# Check that the weights make sense\n",
    "print \"Optimisation Weights\"\n",
    "print ind_cat.apply(lambda x: x*weights,axis=0).sum(axis=0)\n",
    "print \"\"\n",
    "print \"Original Constraints\"\n",
    "print cons.iloc[0]"
   ]
  },
  {
   "cell_type": "markdown",
   "metadata": {},
   "source": [
    "## Sequential Least SQuares Programming"
   ]
  },
  {
   "cell_type": "code",
   "execution_count": 188,
   "metadata": {},
   "outputs": [
    {
     "data": {
      "text/plain": [
       "     fun: 1.791446377907846e-07\n",
       "     jac: array([-4.,  0., -2.,  0.])\n",
       " message: 'Optimization terminated successfully.'\n",
       "    nfev: 254\n",
       "     nit: 36\n",
       "    njev: 36\n",
       "  status: 0\n",
       " success: True\n",
       "       x: array([ 1.15384618,  3.69230772,  1.69230765,  4.30769227])"
      ]
     },
     "execution_count": 188,
     "metadata": {},
     "output_type": "execute_result"
    }
   ],
   "source": [
    "# Now it's easy to swap out the different optimisers\n",
    "slsqp = minimize(fun=tae, x0 = np.ones(len(indu)), args = (indu,cons.iloc[0]), method = 'SLSQP', tol=1e-7)\n",
    "slsqp"
   ]
  },
  {
   "cell_type": "code",
   "execution_count": 189,
   "metadata": {},
   "outputs": [
    {
     "data": {
      "text/plain": [
       "array([ 1.15384618,  1.15384618,  3.69230772,  1.69230765,  4.30769227])"
      ]
     },
     "execution_count": 189,
     "metadata": {},
     "output_type": "execute_result"
    }
   ],
   "source": [
    "# Get weights for original ind table by duplicating weights where required\n",
    "weights = np.repeat(slsqp.x,umat['freq'])\n",
    "weights"
   ]
  },
  {
   "cell_type": "code",
   "execution_count": 190,
   "metadata": {},
   "outputs": [
    {
     "name": "stdout",
     "output_type": "stream",
     "text": [
      "Optimisation Weights\n",
      "a0_49    8.0\n",
      "a50+     4.0\n",
      "m        6.0\n",
      "f        6.0\n",
      "dtype: float64\n",
      "\n",
      "Original Constraints\n",
      "a0_49    8\n",
      "a50+     4\n",
      "m        6\n",
      "f        6\n",
      "Name: 0, dtype: int64\n"
     ]
    }
   ],
   "source": [
    "# Check that the weights make sense\n",
    "print \"Optimisation Weights\"\n",
    "print ind_cat.apply(lambda x: x*weights,axis=0).sum(axis=0)\n",
    "print \"\"\n",
    "print \"Original Constraints\"\n",
    "print cons.iloc[0]"
   ]
  },
  {
   "cell_type": "markdown",
   "metadata": {},
   "source": [
    "## Constrained Optimization BY Linear Approximation"
   ]
  },
  {
   "cell_type": "code",
   "execution_count": 199,
   "metadata": {},
   "outputs": [],
   "source": [
    "cobyla = minimize(fun=tae, x0 = np.ones(len(indu)), args = (indu,cons.iloc[0]), method = 'COBYLA', tol=1e-7)"
   ]
  },
  {
   "cell_type": "code",
   "execution_count": 200,
   "metadata": {},
   "outputs": [
    {
     "data": {
      "text/plain": [
       "array([ 1.14687573,  1.14687573,  3.70624832,  1.70624853,  4.29375162])"
      ]
     },
     "execution_count": 200,
     "metadata": {},
     "output_type": "execute_result"
    }
   ],
   "source": [
    "# Get weights for original ind table by duplicating weights where required\n",
    "weights = np.repeat(cobyla.x,umat['freq'])\n",
    "weights"
   ]
  },
  {
   "cell_type": "code",
   "execution_count": 201,
   "metadata": {},
   "outputs": [
    {
     "name": "stdout",
     "output_type": "stream",
     "text": [
      "Optimisation Weights\n",
      "a0_49    8.0\n",
      "a50+     4.0\n",
      "m        6.0\n",
      "f        6.0\n",
      "dtype: float64\n",
      "\n",
      "Original Constraints\n",
      "a0_49    8\n",
      "a50+     4\n",
      "m        6\n",
      "f        6\n",
      "Name: 0, dtype: int64\n"
     ]
    }
   ],
   "source": [
    "# Check that the weights make sense\n",
    "print \"Optimisation Weights\"\n",
    "print ind_cat.apply(lambda x: x*weights,axis=0).sum(axis=0)\n",
    "print \"\"\n",
    "print \"Original Constraints\"\n",
    "print cons.iloc[0]"
   ]
  },
  {
   "cell_type": "markdown",
   "metadata": {},
   "source": [
    "## Basinhopping"
   ]
  },
  {
   "cell_type": "code",
   "execution_count": 229,
   "metadata": {},
   "outputs": [
    {
     "data": {
      "text/plain": [
       "                        fun: 5.244393523895496e-07\n",
       " lowest_optimization_result:      fun: 5.244393523895496e-07\n",
       "     jac: array([-4., -2., -2., -2.])\n",
       " message: 'Optimization terminated successfully.'\n",
       "    nfev: 140\n",
       "     nit: 18\n",
       "    njev: 18\n",
       "  status: 0\n",
       " success: True\n",
       "       x: array([ 1.08792612,  3.82414768,  1.82414749,  4.17585249])\n",
       "                    message: ['requested number of basinhopping iterations completed successfully']\n",
       "      minimization_failures: 0\n",
       "                       nfev: 16007\n",
       "                        nit: 100\n",
       "                       njev: 2076\n",
       "                          x: array([ 1.08792612,  3.82414768,  1.82414749,  4.17585249])"
      ]
     },
     "execution_count": 229,
     "metadata": {},
     "output_type": "execute_result"
    }
   ],
   "source": [
    "# This algorithm is stochastic, so will likely produce different results run to run.\n",
    "basin = basinhopping(func=tae, x0 = np.ones(len(indu)), niter=100, stepsize=0.1,\n",
    "                     minimizer_kwargs = {'method':'SLSQP','args':(indu,cons.iloc[0]),'tol':1e-6})\n",
    "basin"
   ]
  },
  {
   "cell_type": "code",
   "execution_count": 230,
   "metadata": {},
   "outputs": [
    {
     "data": {
      "text/plain": [
       "array([ 1.08792612,  1.08792612,  3.82414768,  1.82414749,  4.17585249])"
      ]
     },
     "execution_count": 230,
     "metadata": {},
     "output_type": "execute_result"
    }
   ],
   "source": [
    "# Get weights for original ind table by duplicating weights where required\n",
    "weights = np.repeat(basin.x,umat['freq'])\n",
    "weights"
   ]
  },
  {
   "cell_type": "code",
   "execution_count": 231,
   "metadata": {},
   "outputs": [
    {
     "name": "stdout",
     "output_type": "stream",
     "text": [
      "Optimisation Weights\n",
      "a0_49    8.0\n",
      "a50+     4.0\n",
      "m        6.0\n",
      "f        6.0\n",
      "dtype: float64\n",
      "\n",
      "Original Constraints\n",
      "a0_49    8\n",
      "a50+     4\n",
      "m        6\n",
      "f        6\n",
      "Name: 0, dtype: int64\n"
     ]
    }
   ],
   "source": [
    "# Check that the weights make sense\n",
    "print \"Optimisation Weights\"\n",
    "print ind_cat.apply(lambda x: x*weights,axis=0).sum(axis=0)\n",
    "print \"\"\n",
    "print \"Original Constraints\"\n",
    "print cons.iloc[0]"
   ]
  },
  {
   "cell_type": "markdown",
   "metadata": {},
   "source": [
    "## Differential Evolution"
   ]
  },
  {
   "cell_type": "code",
   "execution_count": 239,
   "metadata": {},
   "outputs": [],
   "source": [
    "diff_ev = differential_evolution(func=tae, bounds = [(0,10),(0,10),(0,10),(0,10)], args = (indu,cons.iloc[0]))"
   ]
  },
  {
   "cell_type": "code",
   "execution_count": 240,
   "metadata": {},
   "outputs": [
    {
     "data": {
      "text/plain": [
       "array([ 0.93216183,  0.93216183,  4.13567633,  2.13567633,  3.86432367])"
      ]
     },
     "execution_count": 240,
     "metadata": {},
     "output_type": "execute_result"
    }
   ],
   "source": [
    "# Get weights for original ind table by duplicating weights where required\n",
    "weights = np.repeat(diff_ev.x,umat['freq'])\n",
    "weights"
   ]
  },
  {
   "cell_type": "code",
   "execution_count": 242,
   "metadata": {},
   "outputs": [
    {
     "name": "stdout",
     "output_type": "stream",
     "text": [
      "Optimisation Weights\n",
      "a0_49    8.0\n",
      "a50+     4.0\n",
      "m        6.0\n",
      "f        6.0\n",
      "dtype: float64\n",
      "\n",
      "Original Constraints\n",
      "a0_49    8\n",
      "a50+     4\n",
      "m        6\n",
      "f        6\n",
      "Name: 0, dtype: int64\n"
     ]
    }
   ],
   "source": [
    "# Check that the weights make sense\n",
    "print \"Optimisation Weights\"\n",
    "print ind_cat.apply(lambda x: x*weights,axis=0).sum(axis=0)\n",
    "print \"\"\n",
    "print \"Original Constraints\"\n",
    "print cons.iloc[0]"
   ]
  },
  {
   "cell_type": "code",
   "execution_count": 243,
   "metadata": {
    "collapsed": true
   },
   "outputs": [],
   "source": [
    "# All of these algorithms produce weights for SimpleWorld that satisfy the constraints.\n",
    "# However, different algorithms cna provide different solutions.\n",
    "# In this example multiple sets of weights satisfy the constraints, and it is not clear which is the 'best'.\n",
    "# The basinhopping and differential evolution examples feel better because they make an attempt at global optimising.\n",
    "# However they are stochastic, so you get different results if you don't set the seed.\n",
    "# And, they are fiddly to paramterise compared to ipf and local minimisers."
   ]
  }
 ],
 "metadata": {
  "kernelspec": {
   "display_name": "Python 2",
   "language": "python",
   "name": "python2"
  },
  "language_info": {
   "codemirror_mode": {
    "name": "ipython",
    "version": 2
   },
   "file_extension": ".py",
   "mimetype": "text/x-python",
   "name": "python",
   "nbconvert_exporter": "python",
   "pygments_lexer": "ipython2",
   "version": "2.7.13"
  }
 },
 "nbformat": 4,
 "nbformat_minor": 2
}
