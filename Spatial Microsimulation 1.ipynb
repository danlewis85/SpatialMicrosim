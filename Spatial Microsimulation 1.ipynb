{
 "cells": [
  {
   "cell_type": "code",
   "execution_count": 1,
   "metadata": {
    "collapsed": true
   },
   "outputs": [],
   "source": [
    "# Based on Robin Lovelace's book: http://spatial-microsim-book.robinlovelace.net/"
   ]
  },
  {
   "cell_type": "code",
   "execution_count": 26,
   "metadata": {},
   "outputs": [],
   "source": [
    "import pandas as pd\n",
    "import numpy as np\n",
    "import ipfn\n",
    "import copy"
   ]
  },
  {
   "cell_type": "markdown",
   "metadata": {},
   "source": [
    "# SimpleWorld Example"
   ]
  },
  {
   "cell_type": "markdown",
   "metadata": {},
   "source": [
    "# Chapter 4 Data Preparation"
   ]
  },
  {
   "cell_type": "code",
   "execution_count": 646,
   "metadata": {},
   "outputs": [
    {
     "data": {
      "text/html": [
       "<div>\n",
       "<style>\n",
       "    .dataframe thead tr:only-child th {\n",
       "        text-align: right;\n",
       "    }\n",
       "\n",
       "    .dataframe thead th {\n",
       "        text-align: left;\n",
       "    }\n",
       "\n",
       "    .dataframe tbody tr th {\n",
       "        vertical-align: top;\n",
       "    }\n",
       "</style>\n",
       "<table border=\"1\" class=\"dataframe\">\n",
       "  <thead>\n",
       "    <tr style=\"text-align: right;\">\n",
       "      <th></th>\n",
       "      <th>id</th>\n",
       "      <th>age</th>\n",
       "      <th>sex</th>\n",
       "      <th>income</th>\n",
       "    </tr>\n",
       "  </thead>\n",
       "  <tbody>\n",
       "    <tr>\n",
       "      <th>0</th>\n",
       "      <td>1</td>\n",
       "      <td>59</td>\n",
       "      <td>m</td>\n",
       "      <td>2868</td>\n",
       "    </tr>\n",
       "    <tr>\n",
       "      <th>1</th>\n",
       "      <td>2</td>\n",
       "      <td>54</td>\n",
       "      <td>m</td>\n",
       "      <td>2474</td>\n",
       "    </tr>\n",
       "    <tr>\n",
       "      <th>2</th>\n",
       "      <td>3</td>\n",
       "      <td>35</td>\n",
       "      <td>m</td>\n",
       "      <td>2231</td>\n",
       "    </tr>\n",
       "    <tr>\n",
       "      <th>3</th>\n",
       "      <td>4</td>\n",
       "      <td>73</td>\n",
       "      <td>f</td>\n",
       "      <td>3152</td>\n",
       "    </tr>\n",
       "    <tr>\n",
       "      <th>4</th>\n",
       "      <td>5</td>\n",
       "      <td>49</td>\n",
       "      <td>f</td>\n",
       "      <td>2473</td>\n",
       "    </tr>\n",
       "  </tbody>\n",
       "</table>\n",
       "</div>"
      ],
      "text/plain": [
       "  id age sex income\n",
       "0  1  59   m   2868\n",
       "1  2  54   m   2474\n",
       "2  3  35   m   2231\n",
       "3  4  73   f   3152\n",
       "4  5  49   f   2473"
      ]
     },
     "execution_count": 646,
     "metadata": {},
     "output_type": "execute_result"
    }
   ],
   "source": [
    "# Create the SimpleWorld individual data\n",
    "\n",
    "ids = range(1,6)\n",
    "ages = [59,54,35,73,49]\n",
    "sex = [\"m\",\"m\",\"m\",\"f\",\"f\"]\n",
    "income = [2868, 2474, 2231, 3152, 2473]\n",
    "\n",
    "ind = pd.DataFrame(np.transpose([ids,ages,sex,income]), columns=[\"id\",\"age\",\"sex\",\"income\"])\n",
    "ind"
   ]
  },
  {
   "cell_type": "code",
   "execution_count": 6,
   "metadata": {},
   "outputs": [
    {
     "data": {
      "text/html": [
       "<div>\n",
       "<style>\n",
       "    .dataframe thead tr:only-child th {\n",
       "        text-align: right;\n",
       "    }\n",
       "\n",
       "    .dataframe thead th {\n",
       "        text-align: left;\n",
       "    }\n",
       "\n",
       "    .dataframe tbody tr th {\n",
       "        vertical-align: top;\n",
       "    }\n",
       "</style>\n",
       "<table border=\"1\" class=\"dataframe\">\n",
       "  <thead>\n",
       "    <tr style=\"text-align: right;\">\n",
       "      <th></th>\n",
       "      <th>0-49</th>\n",
       "      <th>50+</th>\n",
       "    </tr>\n",
       "  </thead>\n",
       "  <tbody>\n",
       "    <tr>\n",
       "      <th>0</th>\n",
       "      <td>8</td>\n",
       "      <td>4</td>\n",
       "    </tr>\n",
       "    <tr>\n",
       "      <th>1</th>\n",
       "      <td>2</td>\n",
       "      <td>8</td>\n",
       "    </tr>\n",
       "    <tr>\n",
       "      <th>2</th>\n",
       "      <td>7</td>\n",
       "      <td>4</td>\n",
       "    </tr>\n",
       "  </tbody>\n",
       "</table>\n",
       "</div>"
      ],
      "text/plain": [
       "   0-49  50+\n",
       "0     8    4\n",
       "1     2    8\n",
       "2     7    4"
      ]
     },
     "execution_count": 6,
     "metadata": {},
     "output_type": "execute_result"
    }
   ],
   "source": [
    "# Create the SimpleWorld age constraint data\n",
    "\n",
    "con_age = pd.DataFrame([[8,4],[2,8],[7,4]],columns=[\"0-49\",\"50+\"])\n",
    "con_age"
   ]
  },
  {
   "cell_type": "code",
   "execution_count": 7,
   "metadata": {},
   "outputs": [
    {
     "data": {
      "text/html": [
       "<div>\n",
       "<style>\n",
       "    .dataframe thead tr:only-child th {\n",
       "        text-align: right;\n",
       "    }\n",
       "\n",
       "    .dataframe thead th {\n",
       "        text-align: left;\n",
       "    }\n",
       "\n",
       "    .dataframe tbody tr th {\n",
       "        vertical-align: top;\n",
       "    }\n",
       "</style>\n",
       "<table border=\"1\" class=\"dataframe\">\n",
       "  <thead>\n",
       "    <tr style=\"text-align: right;\">\n",
       "      <th></th>\n",
       "      <th>m</th>\n",
       "      <th>f</th>\n",
       "    </tr>\n",
       "  </thead>\n",
       "  <tbody>\n",
       "    <tr>\n",
       "      <th>0</th>\n",
       "      <td>6</td>\n",
       "      <td>6</td>\n",
       "    </tr>\n",
       "    <tr>\n",
       "      <th>1</th>\n",
       "      <td>4</td>\n",
       "      <td>6</td>\n",
       "    </tr>\n",
       "    <tr>\n",
       "      <th>2</th>\n",
       "      <td>3</td>\n",
       "      <td>8</td>\n",
       "    </tr>\n",
       "  </tbody>\n",
       "</table>\n",
       "</div>"
      ],
      "text/plain": [
       "   m  f\n",
       "0  6  6\n",
       "1  4  6\n",
       "2  3  8"
      ]
     },
     "execution_count": 7,
     "metadata": {},
     "output_type": "execute_result"
    }
   ],
   "source": [
    "# Create the SimpleWorld sex constraint data\n",
    "\n",
    "con_sex = pd.DataFrame([[6,6],[4,6],[3,8]],columns=[\"m\",\"f\"])\n",
    "con_sex"
   ]
  },
  {
   "cell_type": "code",
   "execution_count": 8,
   "metadata": {},
   "outputs": [
    {
     "name": "stdout",
     "output_type": "stream",
     "text": [
      "con_age total: 33 ; con_sex total: 33\n",
      "con_age row sums: [12 10 11] ; con_sex row sums: [12 10 11]\n"
     ]
    },
    {
     "data": {
      "text/plain": [
       "0    True\n",
       "1    True\n",
       "2    True\n",
       "dtype: bool"
      ]
     },
     "execution_count": 8,
     "metadata": {},
     "output_type": "execute_result"
    }
   ],
   "source": [
    "# Check that the totals of the two constraints tables match\n",
    "print \"con_age total:\", con_age.values.sum(), \"; con_sex total:\", con_sex.values.sum()\n",
    "\n",
    "# Check the row totals (i.e. area populations match)\n",
    "print \"con_age row sums:\", con_age.sum(axis=1).values, \"; con_sex row sums:\", con_sex.sum(axis=1).values\n",
    "\n",
    "# Test row sum equivalence\n",
    "con_age.sum(axis=1) == con_sex.sum(axis=1)"
   ]
  },
  {
   "cell_type": "code",
   "execution_count": 269,
   "metadata": {},
   "outputs": [
    {
     "data": {
      "text/html": [
       "<div>\n",
       "<style>\n",
       "    .dataframe thead tr:only-child th {\n",
       "        text-align: right;\n",
       "    }\n",
       "\n",
       "    .dataframe thead th {\n",
       "        text-align: left;\n",
       "    }\n",
       "\n",
       "    .dataframe tbody tr th {\n",
       "        vertical-align: top;\n",
       "    }\n",
       "</style>\n",
       "<table border=\"1\" class=\"dataframe\">\n",
       "  <thead>\n",
       "    <tr style=\"text-align: right;\">\n",
       "      <th></th>\n",
       "      <th>id</th>\n",
       "      <th>age</th>\n",
       "      <th>sex</th>\n",
       "    </tr>\n",
       "  </thead>\n",
       "  <tbody>\n",
       "    <tr>\n",
       "      <th>0</th>\n",
       "      <td>1</td>\n",
       "      <td>59</td>\n",
       "      <td>m</td>\n",
       "    </tr>\n",
       "    <tr>\n",
       "      <th>1</th>\n",
       "      <td>2</td>\n",
       "      <td>54</td>\n",
       "      <td>m</td>\n",
       "    </tr>\n",
       "    <tr>\n",
       "      <th>2</th>\n",
       "      <td>3</td>\n",
       "      <td>35</td>\n",
       "      <td>m</td>\n",
       "    </tr>\n",
       "    <tr>\n",
       "      <th>3</th>\n",
       "      <td>4</td>\n",
       "      <td>73</td>\n",
       "      <td>f</td>\n",
       "    </tr>\n",
       "    <tr>\n",
       "      <th>4</th>\n",
       "      <td>5</td>\n",
       "      <td>49</td>\n",
       "      <td>f</td>\n",
       "    </tr>\n",
       "  </tbody>\n",
       "</table>\n",
       "</div>"
      ],
      "text/plain": [
       "  id age sex\n",
       "0  1  59   m\n",
       "1  2  54   m\n",
       "2  3  35   m\n",
       "3  4  73   f\n",
       "4  5  49   f"
      ]
     },
     "execution_count": 269,
     "metadata": {},
     "output_type": "execute_result"
    }
   ],
   "source": [
    "# Store the full individidual dataset as ind_orig. Use copy do make a 'deep' copy.\n",
    "ind_orig = ind.copy()\n",
    "# Drop the income field\n",
    "ind = ind.drop(['income'],axis=1)\n",
    "ind"
   ]
  },
  {
   "cell_type": "code",
   "execution_count": 270,
   "metadata": {},
   "outputs": [
    {
     "data": {
      "text/html": [
       "<div>\n",
       "<style>\n",
       "    .dataframe thead tr:only-child th {\n",
       "        text-align: right;\n",
       "    }\n",
       "\n",
       "    .dataframe thead th {\n",
       "        text-align: left;\n",
       "    }\n",
       "\n",
       "    .dataframe tbody tr th {\n",
       "        vertical-align: top;\n",
       "    }\n",
       "</style>\n",
       "<table border=\"1\" class=\"dataframe\">\n",
       "  <thead>\n",
       "    <tr style=\"text-align: right;\">\n",
       "      <th></th>\n",
       "      <th>id</th>\n",
       "      <th>age</th>\n",
       "      <th>sex</th>\n",
       "    </tr>\n",
       "  </thead>\n",
       "  <tbody>\n",
       "    <tr>\n",
       "      <th>0</th>\n",
       "      <td>1</td>\n",
       "      <td>a50+</td>\n",
       "      <td>m</td>\n",
       "    </tr>\n",
       "    <tr>\n",
       "      <th>1</th>\n",
       "      <td>2</td>\n",
       "      <td>a50+</td>\n",
       "      <td>m</td>\n",
       "    </tr>\n",
       "    <tr>\n",
       "      <th>2</th>\n",
       "      <td>3</td>\n",
       "      <td>a0_49</td>\n",
       "      <td>m</td>\n",
       "    </tr>\n",
       "    <tr>\n",
       "      <th>3</th>\n",
       "      <td>4</td>\n",
       "      <td>a50+</td>\n",
       "      <td>f</td>\n",
       "    </tr>\n",
       "    <tr>\n",
       "      <th>4</th>\n",
       "      <td>5</td>\n",
       "      <td>a0_49</td>\n",
       "      <td>f</td>\n",
       "    </tr>\n",
       "  </tbody>\n",
       "</table>\n",
       "</div>"
      ],
      "text/plain": [
       "  id    age sex\n",
       "0  1   a50+   m\n",
       "1  2   a50+   m\n",
       "2  3  a0_49   m\n",
       "3  4   a50+   f\n",
       "4  5  a0_49   f"
      ]
     },
     "execution_count": 270,
     "metadata": {},
     "output_type": "execute_result"
    }
   ],
   "source": [
    "# Now recategorise the age variable\n",
    "ind['age'] = pd.to_numeric(ind['age'])\n",
    "\n",
    "# overwrite the age variable with categorical age\n",
    "ind['age'] = pd.cut(ind['age'], [0,49,120], labels = ['a0_49','a50+'])\n",
    "ind"
   ]
  },
  {
   "cell_type": "code",
   "execution_count": 11,
   "metadata": {},
   "outputs": [
    {
     "data": {
      "text/html": [
       "<div>\n",
       "<style>\n",
       "    .dataframe thead tr:only-child th {\n",
       "        text-align: right;\n",
       "    }\n",
       "\n",
       "    .dataframe thead th {\n",
       "        text-align: left;\n",
       "    }\n",
       "\n",
       "    .dataframe tbody tr th {\n",
       "        vertical-align: top;\n",
       "    }\n",
       "</style>\n",
       "<table border=\"1\" class=\"dataframe\">\n",
       "  <thead>\n",
       "    <tr style=\"text-align: right;\">\n",
       "      <th></th>\n",
       "      <th>a0_49</th>\n",
       "      <th>a50+</th>\n",
       "    </tr>\n",
       "  </thead>\n",
       "  <tbody>\n",
       "    <tr>\n",
       "      <th>0</th>\n",
       "      <td>8</td>\n",
       "      <td>4</td>\n",
       "    </tr>\n",
       "    <tr>\n",
       "      <th>1</th>\n",
       "      <td>2</td>\n",
       "      <td>8</td>\n",
       "    </tr>\n",
       "    <tr>\n",
       "      <th>2</th>\n",
       "      <td>7</td>\n",
       "      <td>4</td>\n",
       "    </tr>\n",
       "  </tbody>\n",
       "</table>\n",
       "</div>"
      ],
      "text/plain": [
       "   a0_49  a50+\n",
       "0      8     4\n",
       "1      2     8\n",
       "2      7     4"
      ]
     },
     "execution_count": 11,
     "metadata": {},
     "output_type": "execute_result"
    }
   ],
   "source": [
    "# Rename the con_age fields to match the categories in the ind table\n",
    "con_age = con_age.rename(columns={'0-49':'a0_49','50+':'a50+'})\n",
    "con_age"
   ]
  },
  {
   "cell_type": "code",
   "execution_count": 12,
   "metadata": {},
   "outputs": [
    {
     "data": {
      "text/html": [
       "<div>\n",
       "<style>\n",
       "    .dataframe thead tr:only-child th {\n",
       "        text-align: right;\n",
       "    }\n",
       "\n",
       "    .dataframe thead th {\n",
       "        text-align: left;\n",
       "    }\n",
       "\n",
       "    .dataframe tbody tr th {\n",
       "        vertical-align: top;\n",
       "    }\n",
       "</style>\n",
       "<table border=\"1\" class=\"dataframe\">\n",
       "  <thead>\n",
       "    <tr style=\"text-align: right;\">\n",
       "      <th></th>\n",
       "      <th>a0_49</th>\n",
       "      <th>a50+</th>\n",
       "      <th>m</th>\n",
       "      <th>f</th>\n",
       "    </tr>\n",
       "  </thead>\n",
       "  <tbody>\n",
       "    <tr>\n",
       "      <th>0</th>\n",
       "      <td>8</td>\n",
       "      <td>4</td>\n",
       "      <td>6</td>\n",
       "      <td>6</td>\n",
       "    </tr>\n",
       "    <tr>\n",
       "      <th>1</th>\n",
       "      <td>2</td>\n",
       "      <td>8</td>\n",
       "      <td>4</td>\n",
       "      <td>6</td>\n",
       "    </tr>\n",
       "    <tr>\n",
       "      <th>2</th>\n",
       "      <td>7</td>\n",
       "      <td>4</td>\n",
       "      <td>3</td>\n",
       "      <td>8</td>\n",
       "    </tr>\n",
       "  </tbody>\n",
       "</table>\n",
       "</div>"
      ],
      "text/plain": [
       "   a0_49  a50+  m  f\n",
       "0      8     4  6  6\n",
       "1      2     8  4  6\n",
       "2      7     4  3  8"
      ]
     },
     "execution_count": 12,
     "metadata": {},
     "output_type": "execute_result"
    }
   ],
   "source": [
    "# Finally create a single contraint object by merging the constraints tables.\n",
    "cons = con_age.merge(con_sex,left_index=True,right_index=True)\n",
    "cons"
   ]
  },
  {
   "cell_type": "code",
   "execution_count": 13,
   "metadata": {},
   "outputs": [
    {
     "name": "stdout",
     "output_type": "stream",
     "text": [
      "Shape of ind: (5, 3)\n",
      "Shape of cons: (3, 4)\n"
     ]
    }
   ],
   "source": [
    "# Check the dimensions of the ind and cons datasets\n",
    "print \"Shape of ind:\",ind.shape\n",
    "print \"Shape of cons:\",cons.shape"
   ]
  },
  {
   "cell_type": "code",
   "execution_count": 14,
   "metadata": {
    "collapsed": true
   },
   "outputs": [],
   "source": [
    "# As the dimensions are different, we need to 'flatten' the individual dataset.\n",
    "# This means that responses become fields, and values become booleans, with rows reflecting individuals\n",
    "age_pivot = pd.pivot_table(ind,columns=['age'],values='id', index=ind.index, aggfunc=len, fill_value=0)\n",
    "# The last square bracket bit ensures that the column order is male then female.\n",
    "sex_pivot = pd.pivot_table(ind,columns=['sex'],values='id', index=ind.index, aggfunc=len, fill_value=0)[['m','f']]"
   ]
  },
  {
   "cell_type": "code",
   "execution_count": 15,
   "metadata": {},
   "outputs": [
    {
     "data": {
      "text/html": [
       "<div>\n",
       "<style>\n",
       "    .dataframe thead tr:only-child th {\n",
       "        text-align: right;\n",
       "    }\n",
       "\n",
       "    .dataframe thead th {\n",
       "        text-align: left;\n",
       "    }\n",
       "\n",
       "    .dataframe tbody tr th {\n",
       "        vertical-align: top;\n",
       "    }\n",
       "</style>\n",
       "<table border=\"1\" class=\"dataframe\">\n",
       "  <thead>\n",
       "    <tr style=\"text-align: right;\">\n",
       "      <th></th>\n",
       "      <th>a0_49</th>\n",
       "      <th>a50+</th>\n",
       "      <th>m</th>\n",
       "      <th>f</th>\n",
       "    </tr>\n",
       "  </thead>\n",
       "  <tbody>\n",
       "    <tr>\n",
       "      <th>0</th>\n",
       "      <td>0</td>\n",
       "      <td>1</td>\n",
       "      <td>1</td>\n",
       "      <td>0</td>\n",
       "    </tr>\n",
       "    <tr>\n",
       "      <th>1</th>\n",
       "      <td>0</td>\n",
       "      <td>1</td>\n",
       "      <td>1</td>\n",
       "      <td>0</td>\n",
       "    </tr>\n",
       "    <tr>\n",
       "      <th>2</th>\n",
       "      <td>1</td>\n",
       "      <td>0</td>\n",
       "      <td>1</td>\n",
       "      <td>0</td>\n",
       "    </tr>\n",
       "    <tr>\n",
       "      <th>3</th>\n",
       "      <td>0</td>\n",
       "      <td>1</td>\n",
       "      <td>0</td>\n",
       "      <td>1</td>\n",
       "    </tr>\n",
       "    <tr>\n",
       "      <th>4</th>\n",
       "      <td>1</td>\n",
       "      <td>0</td>\n",
       "      <td>0</td>\n",
       "      <td>1</td>\n",
       "    </tr>\n",
       "  </tbody>\n",
       "</table>\n",
       "</div>"
      ],
      "text/plain": [
       "   a0_49  a50+  m  f\n",
       "0      0     1  1  0\n",
       "1      0     1  1  0\n",
       "2      1     0  1  0\n",
       "3      0     1  0  1\n",
       "4      1     0  0  1"
      ]
     },
     "execution_count": 15,
     "metadata": {},
     "output_type": "execute_result"
    }
   ],
   "source": [
    "# merge pivoted data to make flatten dataframe\n",
    "ind_cat = pd.DataFrame(age_pivot.to_records()).merge(pd.DataFrame(sex_pivot.to_records()),left_index=True,right_index=True)\n",
    "# drop nuisance columns\n",
    "ind_cat = ind_cat.drop(['index_x','index_y'],axis=1)\n",
    "ind_cat"
   ]
  },
  {
   "cell_type": "code",
   "execution_count": 31,
   "metadata": {},
   "outputs": [],
   "source": [
    "# Check the columns sums to be sure ind_cat is correct\n",
    "ind_cat.sum(axis=0)\n",
    "# store these values\n",
    "ind_agg = ind_cat.sum(axis=0)"
   ]
  },
  {
   "cell_type": "code",
   "execution_count": 109,
   "metadata": {
    "collapsed": true
   },
   "outputs": [],
   "source": [
    "# Now the survey data is in the same shape as the cons data in terms of how the columns are set up."
   ]
  },
  {
   "cell_type": "markdown",
   "metadata": {
    "collapsed": true
   },
   "source": [
    "# Chapter 5: Population Synthesis"
   ]
  },
  {
   "cell_type": "code",
   "execution_count": 18,
   "metadata": {},
   "outputs": [
    {
     "data": {
      "text/plain": [
       "(5L, 3L)"
      ]
     },
     "execution_count": 18,
     "metadata": {},
     "output_type": "execute_result"
    }
   ],
   "source": [
    "# Create a weights matrix that contains a weights for each area - individual pairing.\n",
    "# That is a measure of the representativeness of each individual for each area.\n",
    "\n",
    "weights = np.ones((len(ind),len(cons)))\n",
    "weights.shape"
   ]
  },
  {
   "cell_type": "code",
   "execution_count": 81,
   "metadata": {},
   "outputs": [],
   "source": [
    "# Use python to get teh basics for iterative proportional fitting.\n",
    "# First create some intuitive names for the totals\n",
    "n_zones = len(cons) # number of zones\n",
    "n_ind = len(ind) # number of individuals\n",
    "n_age = len(con_age.columns) # number of categories for age\n",
    "n_sex = len(con_sex.columns) # number of categories for sex\n",
    "\n",
    "# Now make some copies of the weights matrix\n",
    "weights1 = copy.deepcopy(weights)\n",
    "weights2 = copy.deepcopy(weights)\n",
    "\n",
    "# Now create the marginal distribution of individuals in each zone.\n",
    "ind_agg0 = cons.apply(lambda x: 1.0*ind_agg, axis=0).T[0:3].reset_index(drop=True)"
   ]
  },
  {
   "cell_type": "code",
   "execution_count": 82,
   "metadata": {},
   "outputs": [
    {
     "name": "stdout",
     "output_type": "stream",
     "text": [
      "[[ 1.33333333  1.          1.        ]\n",
      " [ 1.33333333  1.          1.        ]\n",
      " [ 4.          1.          1.        ]\n",
      " [ 1.33333333  1.          1.        ]\n",
      " [ 4.          1.          1.        ]]\n",
      "[[ 1.33333333  2.66666667  1.        ]\n",
      " [ 1.33333333  2.66666667  1.        ]\n",
      " [ 4.          1.          1.        ]\n",
      " [ 1.33333333  2.66666667  1.        ]\n",
      " [ 4.          1.          1.        ]]\n",
      "[[ 1.33333333  2.66666667  1.33333333]\n",
      " [ 1.33333333  2.66666667  1.33333333]\n",
      " [ 4.          1.          3.5       ]\n",
      " [ 1.33333333  2.66666667  1.33333333]\n",
      " [ 4.          1.          3.5       ]]\n"
     ]
    }
   ],
   "source": [
    "# Now the fitting happens by iterative on zones and categories using nested loops\n",
    "# Here we'll assign values to adapt to the age constraint\n",
    "for i in range(0,n_zones):\n",
    "    for j in range(0,n_age):\n",
    "        index = ind_cat.iloc[:,j] == 1 # filter for selection\n",
    "        weights1[index,i] = (weights[index, i] * con_age.iloc[i,j]) / ind_agg0.iloc[i, j]\n",
    "    print weights1"
   ]
  },
  {
   "cell_type": "code",
   "execution_count": 108,
   "metadata": {},
   "outputs": [],
   "source": [
    "# Create additional ind_agg objects\n",
    "\n",
    "ind_agg1 = (ind_agg0 * np.nan).copy()\n",
    "ind_agg2 = (ind_agg0 * np.nan).copy()\n",
    "\n",
    "# Assign values to the aggregated data after age constraints\n",
    "for i in range(0,n_zones):\n",
    "    ind_agg1.iloc[i] = ind_cat.apply(lambda x: x*weights1[:,i],axis=0).sum(axis=0)"
   ]
  },
  {
   "cell_type": "code",
   "execution_count": 117,
   "metadata": {},
   "outputs": [
    {
     "data": {
      "text/plain": [
       "0    12.0\n",
       "1    10.0\n",
       "2    11.0\n",
       "dtype: float64"
      ]
     },
     "execution_count": 117,
     "metadata": {},
     "output_type": "execute_result"
    }
   ],
   "source": [
    "# Check age constraints for each zone\n",
    "\n",
    "# Simulated population each zone\n",
    "ind_agg1.iloc[:,[0,1]].sum(axis=1)"
   ]
  },
  {
   "cell_type": "code",
   "execution_count": 118,
   "metadata": {},
   "outputs": [
    {
     "data": {
      "text/plain": [
       "0    12\n",
       "1    10\n",
       "2    11\n",
       "dtype: int64"
      ]
     },
     "execution_count": 118,
     "metadata": {},
     "output_type": "execute_result"
    }
   ],
   "source": [
    "# Observed population in each zone\n",
    "cons.iloc[:,[0,1]].sum(axis=1)"
   ]
  },
  {
   "cell_type": "code",
   "execution_count": 129,
   "metadata": {},
   "outputs": [
    {
     "data": {
      "text/plain": [
       "-0.33686076842660762"
      ]
     },
     "execution_count": 129,
     "metadata": {},
     "output_type": "execute_result"
    }
   ],
   "source": [
    "# a simple way to check the goodness of fit is the Pearson correlation of a 1d representation of the data\n",
    "# Initial weights\n",
    "np.corrcoef(ind_agg0.values.ravel(),cons.values.ravel())[0,1]"
   ]
  },
  {
   "cell_type": "code",
   "execution_count": 131,
   "metadata": {},
   "outputs": [
    {
     "data": {
      "text/plain": [
       "0.62843395375330602"
      ]
     },
     "execution_count": 131,
     "metadata": {},
     "output_type": "execute_result"
    }
   ],
   "source": [
    "# Age fitted weights\n",
    "np.corrcoef(ind_agg1.values.ravel(),cons.values.ravel())[0,1]"
   ]
  },
  {
   "cell_type": "code",
   "execution_count": 136,
   "metadata": {},
   "outputs": [
    {
     "data": {
      "text/plain": [
       "array([[ 1.2       ,  1.68421053,  0.64864865],\n",
       "       [ 1.2       ,  1.68421053,  0.64864865],\n",
       "       [ 3.6       ,  0.63157895,  1.7027027 ],\n",
       "       [ 1.5       ,  4.36363636,  2.20689655],\n",
       "       [ 4.5       ,  1.63636364,  5.79310345]])"
      ]
     },
     "execution_count": 136,
     "metadata": {},
     "output_type": "execute_result"
    }
   ],
   "source": [
    "# Now constrain by sex\n",
    "for i in range(0,n_zones):\n",
    "    for j in range(0,n_sex+n_age):\n",
    "        index = ind_cat.iloc[:,j] == 1 # filter for selection\n",
    "        weights2[index, i] = weights1[index, i] * cons.iloc[i,j]/ind_agg1.iloc[i, j]\n",
    "\n",
    "weights2"
   ]
  },
  {
   "cell_type": "code",
   "execution_count": 147,
   "metadata": {},
   "outputs": [
    {
     "data": {
      "text/html": [
       "<div>\n",
       "<style>\n",
       "    .dataframe thead tr:only-child th {\n",
       "        text-align: right;\n",
       "    }\n",
       "\n",
       "    .dataframe thead th {\n",
       "        text-align: left;\n",
       "    }\n",
       "\n",
       "    .dataframe tbody tr th {\n",
       "        vertical-align: top;\n",
       "    }\n",
       "</style>\n",
       "<table border=\"1\" class=\"dataframe\">\n",
       "  <thead>\n",
       "    <tr style=\"text-align: right;\">\n",
       "      <th></th>\n",
       "      <th>a0_49</th>\n",
       "      <th>a50+</th>\n",
       "      <th>m</th>\n",
       "      <th>f</th>\n",
       "    </tr>\n",
       "  </thead>\n",
       "  <tbody>\n",
       "    <tr>\n",
       "      <th>0</th>\n",
       "      <td>8.100000</td>\n",
       "      <td>3.900000</td>\n",
       "      <td>6.0</td>\n",
       "      <td>6.0</td>\n",
       "    </tr>\n",
       "    <tr>\n",
       "      <th>1</th>\n",
       "      <td>2.267943</td>\n",
       "      <td>7.732057</td>\n",
       "      <td>4.0</td>\n",
       "      <td>6.0</td>\n",
       "    </tr>\n",
       "    <tr>\n",
       "      <th>2</th>\n",
       "      <td>7.495806</td>\n",
       "      <td>3.504194</td>\n",
       "      <td>3.0</td>\n",
       "      <td>8.0</td>\n",
       "    </tr>\n",
       "  </tbody>\n",
       "</table>\n",
       "</div>"
      ],
      "text/plain": [
       "      a0_49      a50+    m    f\n",
       "0  8.100000  3.900000  6.0  6.0\n",
       "1  2.267943  7.732057  4.0  6.0\n",
       "2  7.495806  3.504194  3.0  8.0"
      ]
     },
     "execution_count": 147,
     "metadata": {},
     "output_type": "execute_result"
    }
   ],
   "source": [
    "# Get final values\n",
    "for i in range(0,n_zones):\n",
    "    ind_agg2.iloc[i] = ind_cat.apply(lambda x: x*weights2[:,i],axis=0).sum(axis=0)\n",
    "\n",
    "ind_agg2"
   ]
  },
  {
   "cell_type": "code",
   "execution_count": 149,
   "metadata": {},
   "outputs": [
    {
     "data": {
      "text/plain": [
       "0.99319919195100137"
      ]
     },
     "execution_count": 149,
     "metadata": {},
     "output_type": "execute_result"
    }
   ],
   "source": [
    "# Test correaltion\n",
    "np.corrcoef(ind_agg2.values.ravel(),cons.values.ravel())[0,1]"
   ]
  },
  {
   "cell_type": "markdown",
   "metadata": {},
   "source": [
    "## Iterative Proportional Fitting with ipfn"
   ]
  },
  {
   "cell_type": "code",
   "execution_count": 471,
   "metadata": {},
   "outputs": [
    {
     "name": "stdout",
     "output_type": "stream",
     "text": [
      "ipfn converged: convergence_rate not updating or below rate_tolerance\n"
     ]
    },
    {
     "data": {
      "text/html": [
       "<div>\n",
       "<style>\n",
       "    .dataframe thead tr:only-child th {\n",
       "        text-align: right;\n",
       "    }\n",
       "\n",
       "    .dataframe thead th {\n",
       "        text-align: left;\n",
       "    }\n",
       "\n",
       "    .dataframe tbody tr th {\n",
       "        vertical-align: top;\n",
       "    }\n",
       "</style>\n",
       "<table border=\"1\" class=\"dataframe\">\n",
       "  <thead>\n",
       "    <tr style=\"text-align: right;\">\n",
       "      <th></th>\n",
       "      <th>sex</th>\n",
       "      <th>age</th>\n",
       "      <th>id</th>\n",
       "      <th>weight</th>\n",
       "    </tr>\n",
       "  </thead>\n",
       "  <tbody>\n",
       "    <tr>\n",
       "      <th>0</th>\n",
       "      <td>m</td>\n",
       "      <td>a50+</td>\n",
       "      <td>1</td>\n",
       "      <td>1.227998</td>\n",
       "    </tr>\n",
       "    <tr>\n",
       "      <th>1</th>\n",
       "      <td>m</td>\n",
       "      <td>a50+</td>\n",
       "      <td>2</td>\n",
       "      <td>1.227998</td>\n",
       "    </tr>\n",
       "    <tr>\n",
       "      <th>2</th>\n",
       "      <td>m</td>\n",
       "      <td>a0_49</td>\n",
       "      <td>3</td>\n",
       "      <td>3.544004</td>\n",
       "    </tr>\n",
       "    <tr>\n",
       "      <th>3</th>\n",
       "      <td>f</td>\n",
       "      <td>a50+</td>\n",
       "      <td>4</td>\n",
       "      <td>1.544004</td>\n",
       "    </tr>\n",
       "    <tr>\n",
       "      <th>4</th>\n",
       "      <td>f</td>\n",
       "      <td>a0_49</td>\n",
       "      <td>5</td>\n",
       "      <td>4.455996</td>\n",
       "    </tr>\n",
       "  </tbody>\n",
       "</table>\n",
       "</div>"
      ],
      "text/plain": [
       "  sex    age id    weight\n",
       "0   m   a50+  1  1.227998\n",
       "1   m   a50+  2  1.227998\n",
       "2   m  a0_49  3  3.544004\n",
       "3   f   a50+  4  1.544004\n",
       "4   f  a0_49  5  4.455996"
      ]
     },
     "execution_count": 471,
     "metadata": {},
     "output_type": "execute_result"
    }
   ],
   "source": [
    "# We can do the above easily using python ipfn package.\n",
    "# It's a bit different to the equivalent R package ipfp functionality given by Lovelace.\n",
    "# This example will calculate the weights for zone 1.\n",
    "\n",
    "# The process acts on the dataframe of individual observations.\n",
    "# We'll make a copy of the individuals to preserve the originals.\n",
    "ind_copy = ind.copy()\n",
    "# First we need to add a column that will hold the weights for each individual.\n",
    "# Initial weights are all set to 1.\n",
    "ind_copy['weight'] = np.ones(5)\n",
    "\n",
    "# Now, we need to convert the age variable from the categorical data format  create by pd.cut() to string objects.\n",
    "# The ipfn library can't handle categorical datatypes for some reason.\n",
    "ind_copy['age'] = ind_copy['age'].tolist()\n",
    "\n",
    "# Now get the aggregates (marginals) for zone 1 for age and sex.\n",
    "age = cons.iloc[0,[0,1]]\n",
    "sex = cons.iloc[0,[2,3]]\n",
    "\n",
    "aggregates = [age,sex]\n",
    "dimensions = [['age'],['sex']]\n",
    "\n",
    "ipf = ipfn.ipfn(ind_copy,aggregates,dimensions,weight_col='weight',convergence_rate = 1e-15)\n",
    "out = ipf.iteration()\n",
    "out"
   ]
  },
  {
   "cell_type": "code",
   "execution_count": 475,
   "metadata": {},
   "outputs": [
    {
     "name": "stdout",
     "output_type": "stream",
     "text": [
      "ipfn converged: convergence_rate not updating or below rate_tolerance\n",
      "ipfn converged: convergence_rate not updating or below rate_tolerance\n",
      "ipfn converged: convergence_rate not updating or below rate_tolerance\n"
     ]
    },
    {
     "data": {
      "text/html": [
       "<div>\n",
       "<style>\n",
       "    .dataframe thead tr:only-child th {\n",
       "        text-align: right;\n",
       "    }\n",
       "\n",
       "    .dataframe thead th {\n",
       "        text-align: left;\n",
       "    }\n",
       "\n",
       "    .dataframe tbody tr th {\n",
       "        vertical-align: top;\n",
       "    }\n",
       "</style>\n",
       "<table border=\"1\" class=\"dataframe\">\n",
       "  <thead>\n",
       "    <tr style=\"text-align: right;\">\n",
       "      <th></th>\n",
       "      <th>sex</th>\n",
       "      <th>age</th>\n",
       "      <th>id</th>\n",
       "      <th>weight_0</th>\n",
       "      <th>weight_1</th>\n",
       "      <th>weight_2</th>\n",
       "    </tr>\n",
       "  </thead>\n",
       "  <tbody>\n",
       "    <tr>\n",
       "      <th>0</th>\n",
       "      <td>m</td>\n",
       "      <td>a50+</td>\n",
       "      <td>1</td>\n",
       "      <td>1.227998</td>\n",
       "      <td>1.725083</td>\n",
       "      <td>0.725083</td>\n",
       "    </tr>\n",
       "    <tr>\n",
       "      <th>1</th>\n",
       "      <td>m</td>\n",
       "      <td>a50+</td>\n",
       "      <td>2</td>\n",
       "      <td>1.227998</td>\n",
       "      <td>1.725083</td>\n",
       "      <td>0.725083</td>\n",
       "    </tr>\n",
       "    <tr>\n",
       "      <th>2</th>\n",
       "      <td>m</td>\n",
       "      <td>a0_49</td>\n",
       "      <td>3</td>\n",
       "      <td>3.544004</td>\n",
       "      <td>0.549834</td>\n",
       "      <td>1.549834</td>\n",
       "    </tr>\n",
       "    <tr>\n",
       "      <th>3</th>\n",
       "      <td>f</td>\n",
       "      <td>a50+</td>\n",
       "      <td>4</td>\n",
       "      <td>1.544004</td>\n",
       "      <td>4.549834</td>\n",
       "      <td>2.549834</td>\n",
       "    </tr>\n",
       "    <tr>\n",
       "      <th>4</th>\n",
       "      <td>f</td>\n",
       "      <td>a0_49</td>\n",
       "      <td>5</td>\n",
       "      <td>4.455996</td>\n",
       "      <td>1.450166</td>\n",
       "      <td>5.450166</td>\n",
       "    </tr>\n",
       "  </tbody>\n",
       "</table>\n",
       "</div>"
      ],
      "text/plain": [
       "  sex    age id  weight_0  weight_1  weight_2\n",
       "0   m   a50+  1  1.227998  1.725083  0.725083\n",
       "1   m   a50+  2  1.227998  1.725083  0.725083\n",
       "2   m  a0_49  3  3.544004  0.549834  1.549834\n",
       "3   f   a50+  4  1.544004  4.549834  2.549834\n",
       "4   f  a0_49  5  4.455996  1.450166  5.450166"
      ]
     },
     "execution_count": 475,
     "metadata": {},
     "output_type": "execute_result"
    }
   ],
   "source": [
    "# Set up individuals\n",
    "ind_copy = ind.copy()\n",
    "ind_copy['age'] = ind_copy['age'].tolist()\n",
    "\n",
    "# Now let's do this for each zone\n",
    "for i in range(0,n_zones):\n",
    "    # Make weights column for zone i\n",
    "    ind_copy['weight_' + str(i)] = np.ones(5)\n",
    "    \n",
    "    # Now get the aggregates (marginals) for zone 1 for age and sex.\n",
    "    age = cons.iloc[i,[0,1]]\n",
    "    sex = cons.iloc[i,[2,3]]\n",
    "    \n",
    "    # Do iterative proportional fitting\n",
    "    ipf = ipfn.ipfn(ind_copy, [age,sex],[['age'],['sex']],weight_col='weight_'+str(i),convergence_rate = 1e-15)\n",
    "    ind_copy = ipf.iteration()\n",
    "\n",
    "ind_copy"
   ]
  },
  {
   "cell_type": "code",
   "execution_count": 487,
   "metadata": {},
   "outputs": [
    {
     "data": {
      "text/html": [
       "<div>\n",
       "<style>\n",
       "    .dataframe thead tr:only-child th {\n",
       "        text-align: right;\n",
       "    }\n",
       "\n",
       "    .dataframe thead th {\n",
       "        text-align: left;\n",
       "    }\n",
       "\n",
       "    .dataframe tbody tr th {\n",
       "        vertical-align: top;\n",
       "    }\n",
       "</style>\n",
       "<table border=\"1\" class=\"dataframe\">\n",
       "  <thead>\n",
       "    <tr style=\"text-align: right;\">\n",
       "      <th></th>\n",
       "      <th>a0_49</th>\n",
       "      <th>a50+</th>\n",
       "      <th>m</th>\n",
       "      <th>f</th>\n",
       "    </tr>\n",
       "  </thead>\n",
       "  <tbody>\n",
       "    <tr>\n",
       "      <th>0</th>\n",
       "      <td>8.0</td>\n",
       "      <td>4.0</td>\n",
       "      <td>6.0</td>\n",
       "      <td>6.0</td>\n",
       "    </tr>\n",
       "    <tr>\n",
       "      <th>1</th>\n",
       "      <td>2.0</td>\n",
       "      <td>8.0</td>\n",
       "      <td>4.0</td>\n",
       "      <td>6.0</td>\n",
       "    </tr>\n",
       "    <tr>\n",
       "      <th>2</th>\n",
       "      <td>7.0</td>\n",
       "      <td>4.0</td>\n",
       "      <td>3.0</td>\n",
       "      <td>8.0</td>\n",
       "    </tr>\n",
       "  </tbody>\n",
       "</table>\n",
       "</div>"
      ],
      "text/plain": [
       "   a0_49  a50+    m    f\n",
       "0    8.0   4.0  6.0  6.0\n",
       "1    2.0   8.0  4.0  6.0\n",
       "2    7.0   4.0  3.0  8.0"
      ]
     },
     "execution_count": 487,
     "metadata": {},
     "output_type": "execute_result"
    }
   ],
   "source": [
    "# Check that the weights obtained make sense.\n",
    "ind_agg3 = (ind_agg0 * np.nan).copy()\n",
    "\n",
    "for i in range(0,n_zones):\n",
    "    ind_agg3.iloc[i] = ind_cat.apply(lambda x: x*ind_copy['weight_'+str(i)],axis=0).sum(axis=0)\n",
    "\n",
    "ind_agg3"
   ]
  },
  {
   "cell_type": "code",
   "execution_count": 486,
   "metadata": {},
   "outputs": [
    {
     "data": {
      "text/html": [
       "<div>\n",
       "<style>\n",
       "    .dataframe thead tr:only-child th {\n",
       "        text-align: right;\n",
       "    }\n",
       "\n",
       "    .dataframe thead th {\n",
       "        text-align: left;\n",
       "    }\n",
       "\n",
       "    .dataframe tbody tr th {\n",
       "        vertical-align: top;\n",
       "    }\n",
       "</style>\n",
       "<table border=\"1\" class=\"dataframe\">\n",
       "  <thead>\n",
       "    <tr style=\"text-align: right;\">\n",
       "      <th></th>\n",
       "      <th>a0_49</th>\n",
       "      <th>a50+</th>\n",
       "      <th>m</th>\n",
       "      <th>f</th>\n",
       "    </tr>\n",
       "  </thead>\n",
       "  <tbody>\n",
       "    <tr>\n",
       "      <th>0</th>\n",
       "      <td>8</td>\n",
       "      <td>4</td>\n",
       "      <td>6</td>\n",
       "      <td>6</td>\n",
       "    </tr>\n",
       "    <tr>\n",
       "      <th>1</th>\n",
       "      <td>2</td>\n",
       "      <td>8</td>\n",
       "      <td>4</td>\n",
       "      <td>6</td>\n",
       "    </tr>\n",
       "    <tr>\n",
       "      <th>2</th>\n",
       "      <td>7</td>\n",
       "      <td>4</td>\n",
       "      <td>3</td>\n",
       "      <td>8</td>\n",
       "    </tr>\n",
       "  </tbody>\n",
       "</table>\n",
       "</div>"
      ],
      "text/plain": [
       "   a0_49  a50+  m  f\n",
       "0      8     4  6  6\n",
       "1      2     8  4  6\n",
       "2      7     4  3  8"
      ]
     },
     "execution_count": 486,
     "metadata": {},
     "output_type": "execute_result"
    }
   ],
   "source": [
    "# Compare above with constraints - success!\n",
    "cons"
   ]
  },
  {
   "cell_type": "markdown",
   "metadata": {},
   "source": [
    "# Integerisation"
   ]
  },
  {
   "cell_type": "code",
   "execution_count": 586,
   "metadata": {},
   "outputs": [],
   "source": [
    "# The weights generated are fractional, to allcoate individuals to zones we need to convert these to integers.\n",
    "# Ideally with a minimum loss of informtion.\n",
    "\n",
    "# We'll start with a function for a method called 'proportional probabilities'.\n",
    "def int_pp(weights):\n",
    "    # convert to a vector if required\n",
    "    xv = np.array(weights).ravel()\n",
    "    # Sample the individuals\n",
    "    rsum = round(xv.sum())\n",
    "    xs = np.random.choice(len(xv),int(rsum),True,xv/xv.sum())\n",
    "    # return the result\n",
    "    return np.bincount(xs,minlength=len(xv))\n"
   ]
  },
  {
   "cell_type": "code",
   "execution_count": 605,
   "metadata": {},
   "outputs": [
    {
     "name": "stdout",
     "output_type": "stream",
     "text": [
      "[0 1 3]\n",
      "[1 1 2]\n"
     ]
    }
   ],
   "source": [
    "# Test the function \n",
    "np.random.seed(24) # This seed reproduces the answer in Lovelace to give the intuitive result.\n",
    "print int_pp([0.333,0.667,3])\n",
    "print int_pp([1.333,1.333,1.333])"
   ]
  },
  {
   "cell_type": "code",
   "execution_count": 612,
   "metadata": {
    "collapsed": true
   },
   "outputs": [],
   "source": [
    "# Note that given the random nature of proportional probabilities, \n",
    "# unrepresentative arrangements have a non-zero chance of occurance.\n",
    "# Lovelace and Ballas (2013) suggest a truncate, replicate, sample 'TRS' approach to deal with this.\n",
    "# In effect this means that any individual with weight > 1 is sampled at least once.\n",
    "\n",
    "def int_trs(weights):\n",
    "    # convert to a vector if required\n",
    "    xv = np.array(weights).ravel()\n",
    "    # truncate - just get the integer part of the weight\n",
    "    xint = np.floor(xv)\n",
    "    # Get the decimal bit of the weight\n",
    "    r = xv - xint\n",
    "    # Work out the deficit population\n",
    "    frac_sum = round(r.sum())\n",
    "    # Sample based upon the deficit bit\n",
    "    xs = np.random.choice(len(xv),int(frac_sum),True,r/r.sum())\n",
    "    # Get the result of the deficit part\n",
    "    topup = np.bincount(xs,minlength=len(xv))\n",
    "    return xint + topup"
   ]
  },
  {
   "cell_type": "code",
   "execution_count": 632,
   "metadata": {},
   "outputs": [
    {
     "name": "stdout",
     "output_type": "stream",
     "text": [
      "[ 1.  0.  3.]\n",
      "[ 1.  1.  2.]\n"
     ]
    }
   ],
   "source": [
    "# Test this function\n",
    "np.random.seed(31) # This seed reproduces the answer in Lovelace.\n",
    "print int_trs([0.333,0.667,3])\n",
    "print int_trs([1.333,1.333,1.333])"
   ]
  },
  {
   "cell_type": "code",
   "execution_count": 640,
   "metadata": {},
   "outputs": [
    {
     "data": {
      "text/plain": [
       "array([ 1.,  1.,  4.,  2.,  4.])"
      ]
     },
     "execution_count": 640,
     "metadata": {},
     "output_type": "execute_result"
    }
   ],
   "source": [
    "# Now use the TRS approach to integerisation to generate some microdata for SimpleWorld\n",
    "# First, get integer weights for area 1\n",
    "int_weight1 = int_trs(ind_copy['weight_0'])\n",
    "int_weight1"
   ]
  },
  {
   "cell_type": "markdown",
   "metadata": {},
   "source": [
    "## Expansion"
   ]
  },
  {
   "cell_type": "code",
   "execution_count": 644,
   "metadata": {},
   "outputs": [
    {
     "name": "stdout",
     "output_type": "stream",
     "text": [
      "[ 1.  1.  4.  2.  4.]\n",
      "[0 1 2 2 2 2 3 3 4 4 4 4]\n"
     ]
    }
   ],
   "source": [
    "# Integerised weights correspond to the number of repetitions of a given individual.\n",
    "# Firstly, expand the weights\n",
    "\n",
    "def int_expand_vector(weights):\n",
    "    return np.repeat(range(0,len(weights)),weights.astype(int))\n",
    "\n",
    "print int_weight1\n",
    "print int_expand_vector(int_weight1)"
   ]
  },
  {
   "cell_type": "code",
   "execution_count": 648,
   "metadata": {},
   "outputs": [
    {
     "data": {
      "text/html": [
       "<div>\n",
       "<style>\n",
       "    .dataframe thead tr:only-child th {\n",
       "        text-align: right;\n",
       "    }\n",
       "\n",
       "    .dataframe thead th {\n",
       "        text-align: left;\n",
       "    }\n",
       "\n",
       "    .dataframe tbody tr th {\n",
       "        vertical-align: top;\n",
       "    }\n",
       "</style>\n",
       "<table border=\"1\" class=\"dataframe\">\n",
       "  <thead>\n",
       "    <tr style=\"text-align: right;\">\n",
       "      <th></th>\n",
       "      <th>id</th>\n",
       "      <th>age</th>\n",
       "      <th>sex</th>\n",
       "      <th>income</th>\n",
       "    </tr>\n",
       "  </thead>\n",
       "  <tbody>\n",
       "    <tr>\n",
       "      <th>0</th>\n",
       "      <td>1</td>\n",
       "      <td>59</td>\n",
       "      <td>m</td>\n",
       "      <td>2868</td>\n",
       "    </tr>\n",
       "    <tr>\n",
       "      <th>1</th>\n",
       "      <td>2</td>\n",
       "      <td>54</td>\n",
       "      <td>m</td>\n",
       "      <td>2474</td>\n",
       "    </tr>\n",
       "    <tr>\n",
       "      <th>2</th>\n",
       "      <td>3</td>\n",
       "      <td>35</td>\n",
       "      <td>m</td>\n",
       "      <td>2231</td>\n",
       "    </tr>\n",
       "    <tr>\n",
       "      <th>2</th>\n",
       "      <td>3</td>\n",
       "      <td>35</td>\n",
       "      <td>m</td>\n",
       "      <td>2231</td>\n",
       "    </tr>\n",
       "    <tr>\n",
       "      <th>2</th>\n",
       "      <td>3</td>\n",
       "      <td>35</td>\n",
       "      <td>m</td>\n",
       "      <td>2231</td>\n",
       "    </tr>\n",
       "    <tr>\n",
       "      <th>2</th>\n",
       "      <td>3</td>\n",
       "      <td>35</td>\n",
       "      <td>m</td>\n",
       "      <td>2231</td>\n",
       "    </tr>\n",
       "    <tr>\n",
       "      <th>3</th>\n",
       "      <td>4</td>\n",
       "      <td>73</td>\n",
       "      <td>f</td>\n",
       "      <td>3152</td>\n",
       "    </tr>\n",
       "    <tr>\n",
       "      <th>3</th>\n",
       "      <td>4</td>\n",
       "      <td>73</td>\n",
       "      <td>f</td>\n",
       "      <td>3152</td>\n",
       "    </tr>\n",
       "    <tr>\n",
       "      <th>4</th>\n",
       "      <td>5</td>\n",
       "      <td>49</td>\n",
       "      <td>f</td>\n",
       "      <td>2473</td>\n",
       "    </tr>\n",
       "    <tr>\n",
       "      <th>4</th>\n",
       "      <td>5</td>\n",
       "      <td>49</td>\n",
       "      <td>f</td>\n",
       "      <td>2473</td>\n",
       "    </tr>\n",
       "    <tr>\n",
       "      <th>4</th>\n",
       "      <td>5</td>\n",
       "      <td>49</td>\n",
       "      <td>f</td>\n",
       "      <td>2473</td>\n",
       "    </tr>\n",
       "    <tr>\n",
       "      <th>4</th>\n",
       "      <td>5</td>\n",
       "      <td>49</td>\n",
       "      <td>f</td>\n",
       "      <td>2473</td>\n",
       "    </tr>\n",
       "  </tbody>\n",
       "</table>\n",
       "</div>"
      ],
      "text/plain": [
       "  id age sex income\n",
       "0  1  59   m   2868\n",
       "1  2  54   m   2474\n",
       "2  3  35   m   2231\n",
       "2  3  35   m   2231\n",
       "2  3  35   m   2231\n",
       "2  3  35   m   2231\n",
       "3  4  73   f   3152\n",
       "3  4  73   f   3152\n",
       "4  5  49   f   2473\n",
       "4  5  49   f   2473\n",
       "4  5  49   f   2473\n",
       "4  5  49   f   2473"
      ]
     },
     "execution_count": 648,
     "metadata": {},
     "output_type": "execute_result"
    }
   ],
   "source": [
    "# expand the indices for area 1\n",
    "exp_indices = int_expand_vector(int_weight1)\n",
    "# Generate the microdata from the individuals table\n",
    "ind_orig.iloc[exp_indices]"
   ]
  },
  {
   "cell_type": "code",
   "execution_count": 655,
   "metadata": {},
   "outputs": [
    {
     "name": "stderr",
     "output_type": "stream",
     "text": [
      "C:\\Users\\ppehdlew\\AppData\\Local\\Continuum\\Anaconda2\\lib\\site-packages\\ipykernel_launcher.py:9: SettingWithCopyWarning: \n",
      "A value is trying to be set on a copy of a slice from a DataFrame.\n",
      "Try using .loc[row_indexer,col_indexer] = value instead\n",
      "\n",
      "See the caveats in the documentation: http://pandas.pydata.org/pandas-docs/stable/indexing.html#indexing-view-versus-copy\n",
      "  if __name__ == '__main__':\n"
     ]
    },
    {
     "data": {
      "text/html": [
       "<div>\n",
       "<style>\n",
       "    .dataframe thead tr:only-child th {\n",
       "        text-align: right;\n",
       "    }\n",
       "\n",
       "    .dataframe thead th {\n",
       "        text-align: left;\n",
       "    }\n",
       "\n",
       "    .dataframe tbody tr th {\n",
       "        vertical-align: top;\n",
       "    }\n",
       "</style>\n",
       "<table border=\"1\" class=\"dataframe\">\n",
       "  <thead>\n",
       "    <tr style=\"text-align: right;\">\n",
       "      <th></th>\n",
       "      <th>id</th>\n",
       "      <th>age</th>\n",
       "      <th>sex</th>\n",
       "      <th>income</th>\n",
       "      <th>zone</th>\n",
       "    </tr>\n",
       "  </thead>\n",
       "  <tbody>\n",
       "    <tr>\n",
       "      <th>0</th>\n",
       "      <td>1</td>\n",
       "      <td>59</td>\n",
       "      <td>m</td>\n",
       "      <td>2868</td>\n",
       "      <td>0</td>\n",
       "    </tr>\n",
       "    <tr>\n",
       "      <th>0</th>\n",
       "      <td>1</td>\n",
       "      <td>59</td>\n",
       "      <td>m</td>\n",
       "      <td>2868</td>\n",
       "      <td>0</td>\n",
       "    </tr>\n",
       "    <tr>\n",
       "      <th>0</th>\n",
       "      <td>1</td>\n",
       "      <td>59</td>\n",
       "      <td>m</td>\n",
       "      <td>2868</td>\n",
       "      <td>0</td>\n",
       "    </tr>\n",
       "    <tr>\n",
       "      <th>1</th>\n",
       "      <td>2</td>\n",
       "      <td>54</td>\n",
       "      <td>m</td>\n",
       "      <td>2474</td>\n",
       "      <td>0</td>\n",
       "    </tr>\n",
       "    <tr>\n",
       "      <th>2</th>\n",
       "      <td>3</td>\n",
       "      <td>35</td>\n",
       "      <td>m</td>\n",
       "      <td>2231</td>\n",
       "      <td>0</td>\n",
       "    </tr>\n",
       "    <tr>\n",
       "      <th>2</th>\n",
       "      <td>3</td>\n",
       "      <td>35</td>\n",
       "      <td>m</td>\n",
       "      <td>2231</td>\n",
       "      <td>0</td>\n",
       "    </tr>\n",
       "    <tr>\n",
       "      <th>2</th>\n",
       "      <td>3</td>\n",
       "      <td>35</td>\n",
       "      <td>m</td>\n",
       "      <td>2231</td>\n",
       "      <td>0</td>\n",
       "    </tr>\n",
       "    <tr>\n",
       "      <th>3</th>\n",
       "      <td>4</td>\n",
       "      <td>73</td>\n",
       "      <td>f</td>\n",
       "      <td>3152</td>\n",
       "      <td>0</td>\n",
       "    </tr>\n",
       "    <tr>\n",
       "      <th>4</th>\n",
       "      <td>5</td>\n",
       "      <td>49</td>\n",
       "      <td>f</td>\n",
       "      <td>2473</td>\n",
       "      <td>0</td>\n",
       "    </tr>\n",
       "    <tr>\n",
       "      <th>4</th>\n",
       "      <td>5</td>\n",
       "      <td>49</td>\n",
       "      <td>f</td>\n",
       "      <td>2473</td>\n",
       "      <td>0</td>\n",
       "    </tr>\n",
       "    <tr>\n",
       "      <th>4</th>\n",
       "      <td>5</td>\n",
       "      <td>49</td>\n",
       "      <td>f</td>\n",
       "      <td>2473</td>\n",
       "      <td>0</td>\n",
       "    </tr>\n",
       "    <tr>\n",
       "      <th>4</th>\n",
       "      <td>5</td>\n",
       "      <td>49</td>\n",
       "      <td>f</td>\n",
       "      <td>2473</td>\n",
       "      <td>0</td>\n",
       "    </tr>\n",
       "    <tr>\n",
       "      <th>0</th>\n",
       "      <td>1</td>\n",
       "      <td>59</td>\n",
       "      <td>m</td>\n",
       "      <td>2868</td>\n",
       "      <td>1</td>\n",
       "    </tr>\n",
       "    <tr>\n",
       "      <th>1</th>\n",
       "      <td>2</td>\n",
       "      <td>54</td>\n",
       "      <td>m</td>\n",
       "      <td>2474</td>\n",
       "      <td>1</td>\n",
       "    </tr>\n",
       "    <tr>\n",
       "      <th>1</th>\n",
       "      <td>2</td>\n",
       "      <td>54</td>\n",
       "      <td>m</td>\n",
       "      <td>2474</td>\n",
       "      <td>1</td>\n",
       "    </tr>\n",
       "    <tr>\n",
       "      <th>3</th>\n",
       "      <td>4</td>\n",
       "      <td>73</td>\n",
       "      <td>f</td>\n",
       "      <td>3152</td>\n",
       "      <td>1</td>\n",
       "    </tr>\n",
       "    <tr>\n",
       "      <th>3</th>\n",
       "      <td>4</td>\n",
       "      <td>73</td>\n",
       "      <td>f</td>\n",
       "      <td>3152</td>\n",
       "      <td>1</td>\n",
       "    </tr>\n",
       "    <tr>\n",
       "      <th>3</th>\n",
       "      <td>4</td>\n",
       "      <td>73</td>\n",
       "      <td>f</td>\n",
       "      <td>3152</td>\n",
       "      <td>1</td>\n",
       "    </tr>\n",
       "    <tr>\n",
       "      <th>3</th>\n",
       "      <td>4</td>\n",
       "      <td>73</td>\n",
       "      <td>f</td>\n",
       "      <td>3152</td>\n",
       "      <td>1</td>\n",
       "    </tr>\n",
       "    <tr>\n",
       "      <th>3</th>\n",
       "      <td>4</td>\n",
       "      <td>73</td>\n",
       "      <td>f</td>\n",
       "      <td>3152</td>\n",
       "      <td>1</td>\n",
       "    </tr>\n",
       "    <tr>\n",
       "      <th>4</th>\n",
       "      <td>5</td>\n",
       "      <td>49</td>\n",
       "      <td>f</td>\n",
       "      <td>2473</td>\n",
       "      <td>1</td>\n",
       "    </tr>\n",
       "    <tr>\n",
       "      <th>4</th>\n",
       "      <td>5</td>\n",
       "      <td>49</td>\n",
       "      <td>f</td>\n",
       "      <td>2473</td>\n",
       "      <td>1</td>\n",
       "    </tr>\n",
       "    <tr>\n",
       "      <th>1</th>\n",
       "      <td>2</td>\n",
       "      <td>54</td>\n",
       "      <td>m</td>\n",
       "      <td>2474</td>\n",
       "      <td>2</td>\n",
       "    </tr>\n",
       "    <tr>\n",
       "      <th>2</th>\n",
       "      <td>3</td>\n",
       "      <td>35</td>\n",
       "      <td>m</td>\n",
       "      <td>2231</td>\n",
       "      <td>2</td>\n",
       "    </tr>\n",
       "    <tr>\n",
       "      <th>3</th>\n",
       "      <td>4</td>\n",
       "      <td>73</td>\n",
       "      <td>f</td>\n",
       "      <td>3152</td>\n",
       "      <td>2</td>\n",
       "    </tr>\n",
       "    <tr>\n",
       "      <th>3</th>\n",
       "      <td>4</td>\n",
       "      <td>73</td>\n",
       "      <td>f</td>\n",
       "      <td>3152</td>\n",
       "      <td>2</td>\n",
       "    </tr>\n",
       "    <tr>\n",
       "      <th>3</th>\n",
       "      <td>4</td>\n",
       "      <td>73</td>\n",
       "      <td>f</td>\n",
       "      <td>3152</td>\n",
       "      <td>2</td>\n",
       "    </tr>\n",
       "    <tr>\n",
       "      <th>4</th>\n",
       "      <td>5</td>\n",
       "      <td>49</td>\n",
       "      <td>f</td>\n",
       "      <td>2473</td>\n",
       "      <td>2</td>\n",
       "    </tr>\n",
       "    <tr>\n",
       "      <th>4</th>\n",
       "      <td>5</td>\n",
       "      <td>49</td>\n",
       "      <td>f</td>\n",
       "      <td>2473</td>\n",
       "      <td>2</td>\n",
       "    </tr>\n",
       "    <tr>\n",
       "      <th>4</th>\n",
       "      <td>5</td>\n",
       "      <td>49</td>\n",
       "      <td>f</td>\n",
       "      <td>2473</td>\n",
       "      <td>2</td>\n",
       "    </tr>\n",
       "    <tr>\n",
       "      <th>4</th>\n",
       "      <td>5</td>\n",
       "      <td>49</td>\n",
       "      <td>f</td>\n",
       "      <td>2473</td>\n",
       "      <td>2</td>\n",
       "    </tr>\n",
       "    <tr>\n",
       "      <th>4</th>\n",
       "      <td>5</td>\n",
       "      <td>49</td>\n",
       "      <td>f</td>\n",
       "      <td>2473</td>\n",
       "      <td>2</td>\n",
       "    </tr>\n",
       "    <tr>\n",
       "      <th>4</th>\n",
       "      <td>5</td>\n",
       "      <td>49</td>\n",
       "      <td>f</td>\n",
       "      <td>2473</td>\n",
       "      <td>2</td>\n",
       "    </tr>\n",
       "  </tbody>\n",
       "</table>\n",
       "</div>"
      ],
      "text/plain": [
       "  id age sex income  zone\n",
       "0  1  59   m   2868     0\n",
       "0  1  59   m   2868     0\n",
       "0  1  59   m   2868     0\n",
       "1  2  54   m   2474     0\n",
       "2  3  35   m   2231     0\n",
       "2  3  35   m   2231     0\n",
       "2  3  35   m   2231     0\n",
       "3  4  73   f   3152     0\n",
       "4  5  49   f   2473     0\n",
       "4  5  49   f   2473     0\n",
       "4  5  49   f   2473     0\n",
       "4  5  49   f   2473     0\n",
       "0  1  59   m   2868     1\n",
       "1  2  54   m   2474     1\n",
       "1  2  54   m   2474     1\n",
       "3  4  73   f   3152     1\n",
       "3  4  73   f   3152     1\n",
       "3  4  73   f   3152     1\n",
       "3  4  73   f   3152     1\n",
       "3  4  73   f   3152     1\n",
       "4  5  49   f   2473     1\n",
       "4  5  49   f   2473     1\n",
       "1  2  54   m   2474     2\n",
       "2  3  35   m   2231     2\n",
       "3  4  73   f   3152     2\n",
       "3  4  73   f   3152     2\n",
       "3  4  73   f   3152     2\n",
       "4  5  49   f   2473     2\n",
       "4  5  49   f   2473     2\n",
       "4  5  49   f   2473     2\n",
       "4  5  49   f   2473     2\n",
       "4  5  49   f   2473     2\n",
       "4  5  49   f   2473     2"
      ]
     },
     "execution_count": 655,
     "metadata": {},
     "output_type": "execute_result"
    }
   ],
   "source": [
    "# Now let's put the integeristation and expansion together for all areas\n",
    "\n",
    "indivs = []\n",
    "for i in range(0,n_zones):\n",
    "    # Integerise and expand\n",
    "    ints = int_expand_vector(int_trs(ind_copy['weight_'+str(i)]))\n",
    "    # Select the relevant individuals\n",
    "    temp = ind_orig.iloc[ints]\n",
    "    temp['zone'] = i\n",
    "    indivs.append(temp)\n",
    "ints_df = pd.concat(indivs)\n",
    "ints_df"
   ]
  }
 ],
 "metadata": {
  "kernelspec": {
   "display_name": "Python 2",
   "language": "python",
   "name": "python2"
  },
  "language_info": {
   "codemirror_mode": {
    "name": "ipython",
    "version": 2
   },
   "file_extension": ".py",
   "mimetype": "text/x-python",
   "name": "python",
   "nbconvert_exporter": "python",
   "pygments_lexer": "ipython2",
   "version": "2.7.13"
  }
 },
 "nbformat": 4,
 "nbformat_minor": 2
}
